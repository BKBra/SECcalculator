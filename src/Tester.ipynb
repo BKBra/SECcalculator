{
 "cells": [
  {
   "cell_type": "code",
   "execution_count": 1,
   "metadata": {},
   "outputs": [
    {
     "name": "stdout",
     "output_type": "stream",
     "text": [
      "123\n",
      "hello\n"
     ]
    }
   ],
   "source": [
    "print(123)\n",
    "print('hello')"
   ]
  },
  {
   "cell_type": "code",
   "execution_count": 2,
   "metadata": {},
   "outputs": [],
   "source": [
    "string_1 = 'hello'\n",
    "interger_1 = 500\n",
    "欣狗 = 400\n",
    "word = 'A'\n",
    "Word = 'B'"
   ]
  },
  {
   "cell_type": "code",
   "execution_count": 15,
   "metadata": {},
   "outputs": [
    {
     "name": "stdout",
     "output_type": "stream",
     "text": [
      "500\n",
      "400\n"
     ]
    }
   ],
   "source": [
    "# print(string_1)\n",
    "\n",
    "print(interger_1) # asdfsadfsadf\n",
    "''' \n",
    "sadfasdfsdafsadfsdafsadfasdfasdf\n",
    "asdfsadfasdfsdsda\n",
    "'''\n",
    "\n",
    "\"\"\"\n",
    "asdfasdfsadf\n",
    "sdafasdfasdfsdaf\n",
    "\"\"\"\n",
    "print(欣狗)"
   ]
  },
  {
   "cell_type": "code",
   "execution_count": 17,
   "metadata": {},
   "outputs": [
    {
     "name": "stdout",
     "output_type": "stream",
     "text": [
      "Target 为真\n",
      "213412341324\n",
      "asdfasdfa\n"
     ]
    }
   ],
   "source": [
    "target = True\n",
    "\n",
    "if target:\n",
    "    print('Target 为真')\n",
    "    print('213412341324')\n",
    "    if target:\n",
    "        print('asdfasdfa')\n",
    "else:\n",
    "    print('Target 为假')\n",
    "    print('asdfasdsaddfds')"
   ]
  },
  {
   "cell_type": "code",
   "execution_count": null,
   "metadata": {},
   "outputs": [],
   "source": [
    "item_one, item_two, item_three = 1,2,3\n",
    "total = item_one + item_two + item_three\n",
    "\n",
    "total = item_one + \\\n",
    "        item_two + \\\n",
    "        item_three\n",
    "print('123')"
   ]
  },
  {
   "cell_type": "code",
   "execution_count": null,
   "metadata": {},
   "outputs": [
    {
     "name": "stdout",
     "output_type": "stream",
     "text": [
      "这是一个字符串。\n",
      "字符串2号。\n",
      "这是一个有多行\n",
      "的字符串。\n",
      "这是一个结尾为换行符的字符串。\n",
      "\n",
      "不转义的字符串。\\n\n",
      "级联字符串。\n",
      "用加号连接字符串。\n",
      "用乘号重复字符串。用乘号重复字符串。\n"
     ]
    }
   ],
   "source": [
    "str_0 = '这是一个字符串。'\n",
    "str_1 = \"字符串2号。\"\n",
    "str_2 = '''这是一个有多行\n",
    "的字符串。'''\n",
    "str_3 = '这是一个结尾为换行符的字符串。\\n'\n",
    "str_4 = r'不转义的字符串。\\n'\n",
    "str_5 = '级联' '字符串。'\n",
    "str_6 = '用加号' + '连接字符串。'\n",
    "str_7 = '用乘号重复字符串。' * 2\n",
    "\n",
    "for i in range(8):\n",
    "    exec(f'print(str_{i})')"
   ]
  },
  {
   "cell_type": "code",
   "execution_count": null,
   "metadata": {},
   "outputs": [
    {
     "name": "stdout",
     "output_type": "stream",
     "text": [
      "大于0\n"
     ]
    }
   ],
   "source": [
    "condition = 9\n",
    "if condition > 0:\n",
    "    print('大于0')\n",
    "elif condition < 0:\n",
    "    print('小于0')\n",
    "else:\n",
    "    print('等于0')"
   ]
  },
  {
   "cell_type": "code",
   "execution_count": null,
   "metadata": {},
   "outputs": [
    {
     "name": "stdout",
     "output_type": "stream",
     "text": [
      "1\n",
      "2\n"
     ]
    }
   ],
   "source": [
    "print(1, end='\\n')\n",
    "print(2)"
   ]
  },
  {
   "cell_type": "code",
   "execution_count": null,
   "metadata": {},
   "outputs": [
    {
     "name": "stdout",
     "output_type": "stream",
     "text": [
      "用户的输入为：glass\n",
      "用户输入的字符串长度为：5\n"
     ]
    }
   ],
   "source": [
    "str_9 = input(\"\\n按下 enter 键后退出。\")  \n",
    "print('用户的输入为：' + str_9)\n",
    "print(f'用户输入的字符串长度为：{len(str_9)}')"
   ]
  },
  {
   "cell_type": "code",
   "execution_count": 34,
   "metadata": {},
   "outputs": [
    {
     "name": "stdout",
     "output_type": "stream",
     "text": [
      "<class 'int'> <class 'float'> <class 'bool'> <class 'complex'>\n"
     ]
    }
   ],
   "source": [
    "a, b, c, d = 33, 4.1, True, 9 + 3j\n",
    "print(type(a), type(b), type(c), type(d))"
   ]
  },
  {
   "cell_type": "code",
   "execution_count": 39,
   "metadata": {},
   "outputs": [
    {
     "name": "stdout",
     "output_type": "stream",
     "text": [
      "45\n"
     ]
    }
   ],
   "source": [
    "var0 = 45\n",
    "var1 = 93\n",
    "var2 = 37\n",
    "# del语句的语法是：del var1[,var2[,var3[....,varN]]]\n",
    "print(var0)\n",
    "del var0  # 删除单个对象\n",
    "del var1, var2  # 删除多个对象"
   ]
  },
  {
   "cell_type": "code",
   "execution_count": 38,
   "metadata": {},
   "outputs": [
    {
     "name": "stdout",
     "output_type": "stream",
     "text": [
      "9\n",
      "10\n"
     ]
    }
   ],
   "source": [
    "var0 = 4\n",
    "var2 = 5\n",
    "print(var0+var2)\n",
    "print(4+6)"
   ]
  },
  {
   "cell_type": "code",
   "execution_count": 40,
   "metadata": {},
   "outputs": [
    {
     "name": "stdout",
     "output_type": "stream",
     "text": [
      "零\n",
      "一二三\n",
      "十\n",
      "----------\n",
      "零一二三四五六\n",
      "零二四六\n"
     ]
    }
   ],
   "source": [
    "str_8 = '零一二三四五六七八九十'\n",
    "\n",
    "print(str_8[0])\n",
    "print(str_8[1:4])\n",
    "print(str_8[-1])\n",
    "print('----------')\n",
    "print(str_8[0:7])\n",
    "print(str_8[0:7:2])"
   ]
  },
  {
   "cell_type": "code",
   "execution_count": 46,
   "metadata": {},
   "outputs": [
    {
     "name": "stdout",
     "output_type": "stream",
     "text": [
      "m一二三四五六七八九十\n"
     ]
    }
   ],
   "source": [
    "str_8 = 'm' + str_8[1:]\n",
    "print(str_8)"
   ]
  },
  {
   "cell_type": "code",
   "execution_count": 50,
   "metadata": {},
   "outputs": [
    {
     "name": "stdout",
     "output_type": "stream",
     "text": [
      "2\n"
     ]
    }
   ],
   "source": [
    "var0 = 1\n",
    "var1 = '1'\n",
    "print(var0 + int(var1))"
   ]
  },
  {
   "cell_type": "code",
   "execution_count": null,
   "metadata": {},
   "outputs": [
    {
     "name": "stdout",
     "output_type": "stream",
     "text": [
      "<class 'bool'>\n",
      "<class 'bool'>\n",
      "1\n",
      "0\n",
      "False\n",
      "True\n",
      "False\n",
      "True\n",
      "False\n",
      "True\n",
      "False\n",
      "True\n",
      "False\n",
      "True\n",
      "True\n",
      "False\n",
      "This will always print\n",
      "This will also always print\n",
      "x is non-zero and thus True in a boolean context\n"
     ]
    }
   ],
   "source": [
    "# 布尔类型的值和类型\n",
    "a = True\n",
    "b = False\n",
    "print(type(a))  # <class 'bool'>\n",
    "print(type(b))  # <class 'bool'>\n",
    "\n",
    "# 布尔类型的整数表现\n",
    "print(int(True))  # 1\n",
    "print(int(False))  # 0\n",
    "\n",
    "# 使用 bool() 函数进行转换\n",
    "print(bool(0))  # False\n",
    "print(bool(123))  # True\n",
    "print(bool(''))  # False\n",
    "print(bool('Python'))  # True\n",
    "print(bool([]))  # False\n",
    "print(bool([1, 2, 3]))  # True\n",
    "\n",
    "# 布尔逻辑运算\n",
    "print(True and False)  # False\n",
    "print(True or False)  # True\n",
    "print(not True)  # False\n",
    "\n",
    "# 布尔比较运算\n",
    "print(5 > 3)  # True\n",
    "print(2 == 2)  # True\n",
    "print(7 < 4)  # False\n",
    "\n",
    "# 布尔值在控制流中的应用\n",
    "if True:\n",
    "    print(\"This will always print\")\n",
    "\n",
    "if not False:\n",
    "    print(\"This will also always print\")\n",
    "\n",
    "x = 10\n",
    "if x:\n",
    "    print(\"x is non-zero and thus True in a boolean context\")"
   ]
  },
  {
   "cell_type": "code",
   "execution_count": null,
   "metadata": {},
   "outputs": [],
   "source": []
  }
 ],
 "metadata": {
  "kernelspec": {
   "display_name": "base",
   "language": "python",
   "name": "python3"
  },
  "language_info": {
   "codemirror_mode": {
    "name": "ipython",
    "version": 3
   },
   "file_extension": ".py",
   "mimetype": "text/x-python",
   "name": "python",
   "nbconvert_exporter": "python",
   "pygments_lexer": "ipython3",
   "version": "3.8.19"
  }
 },
 "nbformat": 4,
 "nbformat_minor": 2
}
